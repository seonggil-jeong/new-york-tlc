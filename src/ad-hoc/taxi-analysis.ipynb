{
 "cells": [
  {
   "cell_type": "code",
   "execution_count": 1,
   "id": "initial_id",
   "metadata": {
    "collapsed": true,
    "ExecuteTime": {
     "end_time": "2024-03-25T07:54:56.751553Z",
     "start_time": "2024-03-25T07:54:55.649044Z"
    }
   },
   "outputs": [
    {
     "name": "stderr",
     "output_type": "stream",
     "text": [
      "24/03/25 16:54:56 WARN SparkSession: Using an existing Spark session; only runtime SQL configurations will take effect.\n"
     ]
    }
   ],
   "source": [
    "from pyspark.sql import SparkSession\n",
    "from pyspark.sql.functions import col, split\n",
    "\n",
    "spark = (SparkSession.builder\n",
    "         .appName(\"taxi-analysis\")\n",
    "         .master(\"local[5]\")\n",
    "         .getOrCreate()\n",
    "         )"
   ]
  },
  {
   "cell_type": "code",
   "outputs": [],
   "source": [
    "trips_path = '../../data/trips/*'\n",
    "zone_path = '../../data/taxi_zone_lookup.csv'\n",
    "trips_df = spark.read.options(inferSchema=True, header=True).format('parquet').load(trips_path)\n",
    "zone_df = spark.read.options(inferSchema=True, header=True).format('csv').load(\"../../data/taxi_zone_lookup.csv\")"
   ],
   "metadata": {
    "collapsed": false,
    "ExecuteTime": {
     "end_time": "2024-03-25T08:03:22.400112Z",
     "start_time": "2024-03-25T08:03:21.865623Z"
    }
   },
   "id": "b17a40046107813c",
   "execution_count": 23
  },
  {
   "cell_type": "code",
   "outputs": [
    {
     "name": "stdout",
     "output_type": "stream",
     "text": [
      "root\n",
      " |-- VendorID: long (nullable = true)\n",
      " |-- tpep_pickup_datetime: timestamp_ntz (nullable = true)\n",
      " |-- tpep_dropoff_datetime: timestamp_ntz (nullable = true)\n",
      " |-- passenger_count: double (nullable = true)\n",
      " |-- trip_distance: double (nullable = true)\n",
      " |-- RatecodeID: double (nullable = true)\n",
      " |-- store_and_fwd_flag: string (nullable = true)\n",
      " |-- PULocationID: long (nullable = true)\n",
      " |-- DOLocationID: long (nullable = true)\n",
      " |-- payment_type: long (nullable = true)\n",
      " |-- fare_amount: double (nullable = true)\n",
      " |-- extra: double (nullable = true)\n",
      " |-- mta_tax: double (nullable = true)\n",
      " |-- tip_amount: double (nullable = true)\n",
      " |-- tolls_amount: double (nullable = true)\n",
      " |-- improvement_surcharge: double (nullable = true)\n",
      " |-- total_amount: double (nullable = true)\n",
      " |-- congestion_surcharge: double (nullable = true)\n",
      " |-- airport_fee: double (nullable = true)\n"
     ]
    }
   ],
   "source": [
    "trips_df.printSchema()"
   ],
   "metadata": {
    "collapsed": false,
    "ExecuteTime": {
     "end_time": "2024-03-25T08:02:12.205539Z",
     "start_time": "2024-03-25T08:02:12.191773Z"
    }
   },
   "id": "a76a8db953e5c5c2",
   "execution_count": 18
  },
  {
   "cell_type": "code",
   "outputs": [
    {
     "name": "stdout",
     "output_type": "stream",
     "text": [
      "root\n",
      " |-- LocationID: integer (nullable = true)\n",
      " |-- Borough: string (nullable = true)\n",
      " |-- Zone: string (nullable = true)\n",
      " |-- service_zone: string (nullable = true)\n"
     ]
    }
   ],
   "source": [
    "zone_df.printSchema()"
   ],
   "metadata": {
    "collapsed": false,
    "ExecuteTime": {
     "end_time": "2024-03-25T08:03:36.354862Z",
     "start_time": "2024-03-25T08:03:36.349298Z"
    }
   },
   "id": "f7499c652f9d1478",
   "execution_count": 25
  },
  {
   "cell_type": "code",
   "outputs": [],
   "source": [
    "zone_df.createOrReplaceTempView(\"zone\")\n",
    "trips_df.createOrReplaceTempView(\"trips\")"
   ],
   "metadata": {
    "collapsed": false,
    "ExecuteTime": {
     "end_time": "2024-03-25T08:04:25.257171Z",
     "start_time": "2024-03-25T08:04:25.131899Z"
    }
   },
   "id": "eb084f5fa37f16d3",
   "execution_count": 26
  },
  {
   "cell_type": "code",
   "outputs": [],
   "source": [
    "query = \"\"\"\n",
    "SELECT \n",
    "    t.VendorID as vendor_id,\n",
    "    TO_DATE(t.tpep_pickup_datetime) as pickup_date,\n",
    "    TO_DATE(t.tpep_dropoff_datetime) as dropoff_date,\n",
    "    HOUR(t.tpep_pickup_datetime) as pickup_time,\n",
    "    HOUR(t.tpep_dropoff_datetime) as dropoff_time,\n",
    "    t.passenger_count,\n",
    "    t.trip_distance,\n",
    "    t.fare_amount,\n",
    "    t.tip_amount,\n",
    "    t.tolls_amount,\n",
    "    t.total_amount,\n",
    "    t.payment_type,\n",
    "    pz.Zone as pickup_zone,\n",
    "    dz.Zone as dropoff_zone\n",
    "FROM \n",
    "    trips t\n",
    "    LEFT JOIN \n",
    "        zone pz\n",
    "    ON\n",
    "        t.PULocationID = pz.LocationID\n",
    "    LEFT JOIN\n",
    "        zone dz\n",
    "    ON \n",
    "        t.DOLocationID = dz.LocationID\n",
    "\"\"\"\n",
    "trips_with_location = spark.sql(query)"
   ],
   "metadata": {
    "collapsed": false,
    "ExecuteTime": {
     "end_time": "2024-03-25T08:06:41.278079Z",
     "start_time": "2024-03-25T08:06:41.068343Z"
    }
   },
   "id": "2b918a2182c6d71b",
   "execution_count": 27
  },
  {
   "cell_type": "code",
   "outputs": [
    {
     "name": "stdout",
     "output_type": "stream",
     "text": [
      "root\n",
      " |-- vendor_id: long (nullable = true)\n",
      " |-- pickup_date: date (nullable = true)\n",
      " |-- dropoff_date: date (nullable = true)\n",
      " |-- pickup_time: integer (nullable = true)\n",
      " |-- dropoff_time: integer (nullable = true)\n",
      " |-- passenger_count: double (nullable = true)\n",
      " |-- trip_distance: double (nullable = true)\n",
      " |-- fare_amount: double (nullable = true)\n",
      " |-- tip_amount: double (nullable = true)\n",
      " |-- tolls_amount: double (nullable = true)\n",
      " |-- total_amount: double (nullable = true)\n",
      " |-- payment_type: long (nullable = true)\n",
      " |-- pickup_zone: string (nullable = true)\n",
      " |-- dropoff_zone: string (nullable = true)\n"
     ]
    }
   ],
   "source": [
    "trips_with_location.printSchema()"
   ],
   "metadata": {
    "collapsed": false,
    "ExecuteTime": {
     "end_time": "2024-03-25T08:06:45.360653Z",
     "start_time": "2024-03-25T08:06:45.356012Z"
    }
   },
   "id": "5208ba7f4efbb7db",
   "execution_count": 28
  },
  {
   "cell_type": "code",
   "outputs": [
    {
     "name": "stdout",
     "output_type": "stream",
     "text": [
      "+---------+-----------+------------+-----------+------------+---------------+-------------+-----------+----------+------------+------------+------------+--------------------+--------------------+\n",
      "|vendor_id|pickup_date|dropoff_date|pickup_time|dropoff_time|passenger_count|trip_distance|fare_amount|tip_amount|tolls_amount|total_amount|payment_type|         pickup_zone|        dropoff_zone|\n",
      "+---------+-----------+------------+-----------+------------+---------------+-------------+-----------+----------+------------+------------+------------+--------------------+--------------------+\n",
      "|        2| 2021-03-01|  2021-03-01|          0|           0|            1.0|          0.0|        3.0|       0.0|         0.0|         4.3|           2|                 N/A|                 N/A|\n",
      "|        2| 2021-03-01|  2021-03-01|          0|           0|            1.0|          0.0|        2.5|       0.0|         0.0|         3.8|           2|      Manhattanville|      Manhattanville|\n",
      "|        2| 2021-03-01|  2021-03-01|          0|           0|            1.0|          0.0|        3.5|       0.0|         0.0|         4.8|           2|      Manhattanville|      Manhattanville|\n",
      "|        1| 2021-03-01|  2021-03-01|          0|           0|            0.0|         16.5|       51.0|     11.65|        6.12|       70.07|           1|   LaGuardia Airport|      Outside of NYC|\n",
      "|        2| 2021-03-01|  2021-03-01|          0|           0|            1.0|         1.13|        5.5|      1.86|         0.0|       11.16|           1|        East Chelsea|                 N/A|\n",
      "|        2| 2021-03-01|  2021-03-01|          0|           0|            1.0|         2.68|       10.5|      4.29|         0.0|       18.59|           1|Upper West Side S...|      Yorkville East|\n",
      "|        1| 2021-03-01|  2021-03-01|          0|           0|            1.0|         12.4|       40.0|       0.0|         0.0|        43.8|           1|Penn Station/Madi...|           Flatlands|\n",
      "|        1| 2021-03-01|  2021-03-01|          0|           1|            2.0|          9.7|       31.0|       0.0|         0.0|        32.3|           2|         JFK Airport|      Outside of NYC|\n",
      "|        1| 2021-03-01|  2021-03-01|          0|           0|            1.0|          9.3|       26.5|      7.25|        6.12|       43.67|           1|   LaGuardia Airport|     Lenox Hill West|\n",
      "|        2| 2021-03-01|  2021-03-01|          0|           0|            1.0|         9.58|       28.5|      7.68|        6.12|        46.1|           1|   LaGuardia Airport|        Clinton West|\n",
      "|        1| 2021-03-01|  2021-03-01|          0|           0|            1.0|         16.2|       44.0|       0.0|         0.0|        45.3|           2|         JFK Airport|           Homecrest|\n",
      "|        2| 2021-03-01|  2021-03-01|          0|           0|            1.0|         3.58|       13.5|       2.0|         0.0|        19.3|           1|     Lenox Hill East|             Astoria|\n",
      "|        2| 2021-03-01|  2021-03-01|          0|           0|            1.0|         0.91|        6.0|       5.0|         0.0|        14.8|           1|Upper West Side S...|Upper West Side N...|\n",
      "|        2| 2021-03-01|  2021-03-01|          0|           0|            2.0|         2.57|       11.5|       0.0|         0.0|        12.8|           2|    Hamilton Heights|      Central Harlem|\n",
      "|        2| 2021-03-01|  2021-03-01|          0|           0|            1.0|          0.4|        4.0|       0.0|         0.0|         5.3|           2|   East Harlem North|      Central Harlem|\n",
      "|        2| 2021-03-01|  2021-03-01|          0|           0|            1.0|         3.26|       13.5|       0.0|         0.0|        17.3|           2|Upper West Side S...| Little Italy/NoLiTa|\n",
      "|        2| 2021-03-01|  2021-03-01|          0|           0|            1.0|        13.41|       36.5|      9.45|         0.0|       47.25|           1|         JFK Airport|           Flatlands|\n",
      "|        2| 2021-03-01|  2021-03-01|          0|           0|            5.0|         2.35|        9.0|       0.0|         0.0|        12.8|           2|Upper West Side S...|        Clinton West|\n",
      "|        1| 2021-03-01|  2021-03-01|          0|           0|            2.0|         18.3|       52.0|       0.0|        6.12|       61.42|           1|         JFK Airport|Times Sq/Theatre ...|\n",
      "|        2| 2021-03-01|  2021-03-01|          0|           0|            1.0|         1.53|        8.0|      2.36|         0.0|       14.16|           1|Sutton Place/Turt...|        Clinton East|\n",
      "+---------+-----------+------------+-----------+------------+---------------+-------------+-----------+----------+------------+------------+------------+--------------------+--------------------+\n"
     ]
    }
   ],
   "source": [
    "trips_with_location.createOrReplaceTempView(\"trips_with_location\")\n",
    "spark.sql(\"\"\"\n",
    "    SELECT *\n",
    "    FROM trips_with_location\n",
    "\"\"\").show()"
   ],
   "metadata": {
    "collapsed": false,
    "ExecuteTime": {
     "end_time": "2024-03-25T08:08:13.640688Z",
     "start_time": "2024-03-25T08:08:12.865782Z"
    }
   },
   "id": "b212c274210d804f",
   "execution_count": 33
  },
  {
   "cell_type": "code",
   "outputs": [
    {
     "name": "stderr",
     "output_type": "stream",
     "text": [
      "                                                                                \r"
     ]
    },
    {
     "name": "stdout",
     "output_type": "stream",
     "text": [
      "+---------+-----------+------------+-----------+------------+---------------+-------------+-----------+----------+------------+------------+------------+--------------------+--------------------+\n",
      "|vendor_id|pickup_date|dropoff_date|pickup_time|dropoff_time|passenger_count|trip_distance|fare_amount|tip_amount|tolls_amount|total_amount|payment_type|         pickup_zone|        dropoff_zone|\n",
      "+---------+-----------+------------+-----------+------------+---------------+-------------+-----------+----------+------------+------------+------------+--------------------+--------------------+\n",
      "|        2| 2009-01-01|  2009-01-01|          0|          14|            1.0|         3.09|       17.0|       1.0|         0.0|        21.3|           1| Lincoln Square West|      Yorkville East|\n",
      "|        2| 2008-12-31|  2008-12-31|         23|          23|            1.0|         0.55|        4.5|       0.0|         0.0|         5.3|           2|             Erasmus|Prospect-Lefferts...|\n",
      "|        2| 2009-01-01|  2009-01-01|          0|           0|            1.0|         0.83|        6.0|       0.0|         0.0|         9.3|           2|        Clinton East|West Chelsea/Huds...|\n",
      "|        2| 2009-01-01|  2009-01-01|          0|           0|            1.0|          0.0|       -2.5|       0.0|         0.0|        -3.3|           4|        Midtown East|        Midtown East|\n",
      "|        2| 2009-01-01|  2009-01-01|          0|           0|            1.0|          0.0|        2.5|       0.0|         0.0|         3.3|           2|        Midtown East|        Midtown East|\n",
      "|        2| 2009-01-01|  2009-01-01|          0|           0|            1.0|          0.0|        2.5|       0.0|         0.0|         3.3|           2|Queensbridge/Rave...|Queensbridge/Rave...|\n",
      "|        2| 2009-01-01|  2009-01-01|          0|           1|            2.0|        17.09|       49.0|       0.0|         0.0|        49.8|           2|         JFK Airport|    Bensonhurst East|\n",
      "|        2| 2009-01-01|  2009-01-01|          1|          11|            1.0|          0.0|        0.0|       0.0|         0.0|         0.0|           1|Queensbridge/Rave...|Queensbridge/Rave...|\n",
      "|        2| 2009-01-01|  2009-01-01|          0|           1|            1.0|          0.0|        4.5|       0.0|         0.0|         5.3|           2|Queensbridge/Rave...|                 N/A|\n",
      "|        2| 2008-12-31|  2009-01-01|         23|          13|            1.0|         1.74|        8.0|       1.7|         0.0|        13.0|           1| Lincoln Square West|     Lenox Hill West|\n",
      "|        2| 2008-12-31|  2009-01-01|         23|          20|            2.0|          0.7|        4.5|      1.66|         0.0|        9.96|           1|Sutton Place/Turt...|                 N/A|\n",
      "|        2| 2009-01-01|  2009-01-01|          3|           3|            1.0|        17.22|       52.0|       0.0|        6.55|       61.85|           2|        Baisley Park|Upper West Side N...|\n",
      "|        2| 2009-01-01|  2009-01-01|         16|          16|            6.0|         3.57|       13.5|       0.0|         0.0|        16.8|           2|Penn Station/Madi...|      Yorkville West|\n",
      "|        2| 2009-01-01|  2009-01-01|         11|          12|            1.0|          0.3|        3.5|       0.0|         0.0|         6.8|           2|     Lenox Hill East|     Lenox Hill East|\n",
      "|        2| 2009-01-01|  2009-01-01|         12|          12|            1.0|         2.46|       10.0|       0.0|         0.0|        13.3|           2|      Yorkville East| UN/Turtle Bay South|\n",
      "|        2| 2009-01-01|  2009-01-02|         12|           8|            1.0|         1.96|       10.0|      2.66|         0.0|       15.96|           1|Sutton Place/Turt...|                 N/A|\n",
      "|        2| 2008-12-31|  2008-12-31|         23|          23|            1.0|          1.4|        8.5|       0.0|         0.0|        12.8|           2|        Central Park|Upper East Side S...|\n",
      "|        2| 2008-12-31|  2008-12-31|         23|          23|            2.0|         0.51|        4.5|       0.0|         0.0|         8.8|           2|Upper East Side S...|      Yorkville West|\n",
      "|        2| 2009-01-01|  2009-01-01|          0|          12|            2.0|         5.74|       20.5|      4.76|         0.0|       28.56|           1|      Yorkville East|                SoHo|\n",
      "|        2| 2009-01-01|  2009-01-01|          0|           0|            1.0|         5.46|       18.0|       0.0|         0.0|        21.8|           2|       Midtown North|             Astoria|\n",
      "+---------+-----------+------------+-----------+------------+---------------+-------------+-----------+----------+------------+------------+------------+--------------------+--------------------+\n"
     ]
    },
    {
     "name": "stderr",
     "output_type": "stream",
     "text": [
      "                                                                                \r"
     ]
    }
   ],
   "source": [
    "# 이상치 탐색\n",
    "spark.sql(\"\"\"\n",
    "    SELECT\n",
    "        *\n",
    "    FROM trips_with_location as t1\n",
    "    WHERE t1.pickup_date not between '2021-01-01' and '2021-07-31'\n",
    "\"\"\").show()"
   ],
   "metadata": {
    "collapsed": false,
    "ExecuteTime": {
     "end_time": "2024-03-25T08:10:13.574961Z",
     "start_time": "2024-03-25T08:10:11.333469Z"
    }
   },
   "id": "30b62518b2d142b8",
   "execution_count": 36
  },
  {
   "cell_type": "code",
   "outputs": [
    {
     "name": "stderr",
     "output_type": "stream",
     "text": [
      "[Stage 35:====================================>                    (7 + 4) / 11]\r"
     ]
    },
    {
     "name": "stdout",
     "output_type": "stream",
     "text": [
      "+-------+------------------+\n",
      "|summary|      total_amount|\n",
      "+-------+------------------+\n",
      "|  count|          15000936|\n",
      "|   mean| 18.75540051097825|\n",
      "| stddev|145.74310219085987|\n",
      "|    min|            -647.8|\n",
      "|    max|          398469.2|\n",
      "+-------+------------------+\n"
     ]
    },
    {
     "name": "stderr",
     "output_type": "stream",
     "text": [
      "                                                                                \r"
     ]
    }
   ],
   "source": [
    "trips_with_location.select(col('total_amount')).describe().show()  # 요금"
   ],
   "metadata": {
    "collapsed": false,
    "ExecuteTime": {
     "end_time": "2024-03-25T08:11:26.610549Z",
     "start_time": "2024-03-25T08:11:24.871004Z"
    }
   },
   "id": "7f05b21cdc6909aa",
   "execution_count": 37
  },
  {
   "cell_type": "code",
   "outputs": [
    {
     "name": "stdout",
     "output_type": "stream",
     "text": [
      "+-------+-----------------+\n",
      "|summary|    trip_distance|\n",
      "+-------+-----------------+\n",
      "|  count|         15000936|\n",
      "|   mean|6.628556730059907|\n",
      "| stddev| 671.724064548099|\n",
      "|    min|              0.0|\n",
      "|    max|        332541.19|\n",
      "+-------+-----------------+\n"
     ]
    }
   ],
   "source": [
    "trips_with_location.select(\"trip_distance\").describe().show()  # 거리"
   ],
   "metadata": {
    "collapsed": false,
    "ExecuteTime": {
     "end_time": "2024-03-25T08:11:48.138484Z",
     "start_time": "2024-03-25T08:11:46.987507Z"
    }
   },
   "id": "bd7e07a3f8e6f589",
   "execution_count": 39
  },
  {
   "cell_type": "code",
   "outputs": [
    {
     "name": "stderr",
     "output_type": "stream",
     "text": [
      "                                                                                \r"
     ]
    },
    {
     "name": "stdout",
     "output_type": "stream",
     "text": [
      "+-------+------------------+\n",
      "|summary|   passenger_count|\n",
      "+-------+------------------+\n",
      "|  count|          14166908|\n",
      "|   mean|1.4253582362502812|\n",
      "| stddev|1.0443336003189163|\n",
      "|    min|               0.0|\n",
      "|    max|               9.0|\n",
      "+-------+------------------+\n"
     ]
    }
   ],
   "source": [
    "trips_with_location.select(\"passenger_count\").describe().show()  # 승객 수"
   ],
   "metadata": {
    "collapsed": false,
    "ExecuteTime": {
     "end_time": "2024-03-25T08:12:35.268175Z",
     "start_time": "2024-03-25T08:12:33.001427Z"
    }
   },
   "id": "febad07d5e1f9319",
   "execution_count": 40
  },
  {
   "cell_type": "code",
   "outputs": [
    {
     "name": "stderr",
     "output_type": "stream",
     "text": [
      "[Stage 53:=========================================>               (8 + 3) / 11]\r"
     ]
    },
    {
     "name": "stdout",
     "output_type": "stream",
     "text": [
      "+-------------------+--------+\n",
      "|       pickup_month|count(1)|\n",
      "+-------------------+--------+\n",
      "|2002-12-01 00:00:00|       1|\n",
      "|2003-01-01 00:00:00|       1|\n",
      "|2004-04-01 00:00:00|       1|\n",
      "|2008-12-01 00:00:00|      26|\n",
      "|2009-01-01 00:00:00|     111|\n",
      "|2020-12-01 00:00:00|      16|\n",
      "|2021-01-01 00:00:00| 1369753|\n",
      "|2021-02-01 00:00:00| 1371689|\n",
      "|2021-03-01 00:00:00| 1925130|\n",
      "|2021-04-01 00:00:00| 2171215|\n",
      "|2021-05-01 00:00:00| 2507075|\n",
      "|2021-06-01 00:00:00| 2834204|\n",
      "|2021-07-01 00:00:00| 2821661|\n",
      "|2021-08-01 00:00:00|      36|\n",
      "|2021-09-01 00:00:00|       3|\n",
      "|2021-10-01 00:00:00|       3|\n",
      "|2021-11-01 00:00:00|       5|\n",
      "|2021-12-01 00:00:00|       5|\n",
      "|2029-05-01 00:00:00|       1|\n",
      "+-------------------+--------+\n"
     ]
    },
    {
     "name": "stderr",
     "output_type": "stream",
     "text": [
      "                                                                                \r"
     ]
    }
   ],
   "source": [
    "# 월단위 Group\n",
    "\n",
    "spark.sql(\"\"\"\n",
    "SELECT\n",
    "    DATE_TRUNC('MM', t1.pickup_date) AS pickup_month,\n",
    "    count(1)\n",
    "FROM trips_with_location as t1\n",
    "GROUP BY pickup_month\n",
    "ORDER BY 1\n",
    "\"\"\").show()"
   ],
   "metadata": {
    "collapsed": false,
    "ExecuteTime": {
     "end_time": "2024-03-25T08:17:20.056172Z",
     "start_time": "2024-03-25T08:17:16.888664Z"
    }
   },
   "id": "78a04e0f420e411d",
   "execution_count": 46
  },
  {
   "cell_type": "code",
   "outputs": [],
   "source": [
    "cleaned_trips_data = spark.sql(\"\"\"\n",
    "    SELECT\n",
    "        *\n",
    "    FROM trips_with_location as t1\n",
    "    WHERE\n",
    "        t1.total_amount < 5000\n",
    "        AND t1.total_amount > 0\n",
    "        AND t1.trip_distance < 100\n",
    "        AND t1.passenger_count < 5\n",
    "        AND t1.pickup_date >= '2021-01-01'\n",
    "        AND t1.pickup_date < '2021-08-01'\n",
    "\"\"\")"
   ],
   "metadata": {
    "collapsed": false,
    "ExecuteTime": {
     "end_time": "2024-03-25T08:19:35.991279Z",
     "start_time": "2024-03-25T08:19:35.724169Z"
    }
   },
   "id": "e33ea67b63ea24b9",
   "execution_count": 47
  },
  {
   "cell_type": "code",
   "outputs": [],
   "source": [
    "cleaned_trips_data.createOrReplaceTempView(\"cleaned_trips\")"
   ],
   "metadata": {
    "collapsed": false,
    "ExecuteTime": {
     "end_time": "2024-03-25T08:20:12.134135Z",
     "start_time": "2024-03-25T08:20:12.101656Z"
    }
   },
   "id": "7450a784ce4b4791",
   "execution_count": 49
  },
  {
   "cell_type": "code",
   "outputs": [],
   "source": [
    "# 분석 및 시각화\n",
    "\n",
    "import numpy as np\n",
    "import pandas as pd\n",
    "import seaborn as sns\n",
    "import matplotlib.pyplot as plt\n",
    "import matplotlib.dates as mdates"
   ],
   "metadata": {
    "collapsed": false,
    "ExecuteTime": {
     "end_time": "2024-03-25T08:21:05.776571Z",
     "start_time": "2024-03-25T08:21:05.284766Z"
    }
   },
   "id": "28089240881e4145",
   "execution_count": 50
  },
  {
   "cell_type": "code",
   "outputs": [
    {
     "name": "stderr",
     "output_type": "stream",
     "text": [
      "                                                                                \r"
     ]
    },
    {
     "data": {
      "text/plain": "<Axes: xlabel='pickup_date', ylabel='pickup_count'>"
     },
     "execution_count": 54,
     "metadata": {},
     "output_type": "execute_result"
    },
    {
     "data": {
      "text/plain": "<Figure size 1600x600 with 1 Axes>",
      "image/png": "[encoded data removed]"
     },
     "metadata": {},
     "output_type": "display_data"
    }
   ],
   "source": [
    "# 일별 운행 수\n",
    "\n",
    "pickup_date_to_pandas = spark.sql(\"\"\"\n",
    "    SELECT\n",
    "        t1.pickup_date,\n",
    "        count(1) as pickup_count\n",
    "    FROM cleaned_trips as t1\n",
    "    GROUP BY t1.pickup_date\n",
    "\"\"\").toPandas()\n",
    "\n",
    "fig, ax = plt.subplots(figsize=(16, 6))\n",
    "sns.lineplot(x='pickup_date', y='pickup_count', data=pickup_date_to_pandas)"
   ],
   "metadata": {
    "collapsed": false,
    "ExecuteTime": {
     "end_time": "2024-03-25T08:24:39.803276Z",
     "start_time": "2024-03-25T08:24:38.130238Z"
    }
   },
   "id": "589d62fd10982182",
   "execution_count": 54
  },
  {
   "cell_type": "code",
   "outputs": [
    {
     "name": "stderr",
     "output_type": "stream",
     "text": [
      "                                                                                \r"
     ]
    }
   ],
   "source": [
    "# 요일별 운행 수\n",
    "\n",
    "pickup_day_of_week_to_pandas = spark.sql(\"\"\"\n",
    "    SELECT\n",
    "        t1.pickup_date,\n",
    "        DATE_FORMAT(t1.pickup_date, 'EEEE') AS day_of_week,\n",
    "        count(1) as pickup_count\n",
    "    from cleaned_trips as t1\n",
    "    GROUP BY t1.pickup_date, day_of_week\n",
    "\"\"\").toPandas()"
   ],
   "metadata": {
    "collapsed": false,
    "ExecuteTime": {
     "end_time": "2024-03-25T08:28:07.533858Z",
     "start_time": "2024-03-25T08:28:00.803293Z"
    }
   },
   "id": "19aa874216fc8ef5",
   "execution_count": 55
  },
  {
   "cell_type": "code",
   "outputs": [
    {
     "data": {
      "text/plain": "  pickup_date day_of_week  pickup_count\n0  2021-03-24   Wednesday         61095\n1  2021-03-27    Saturday         60760\n2  2021-03-03   Wednesday         55886\n3  2021-03-05      Friday         61779\n4  2021-03-09     Tuesday         54728",
      "text/html": "<div>\n<style scoped>\n    .dataframe tbody tr th:only-of-type {\n        vertical-align: middle;\n    }\n\n    .dataframe tbody tr th {\n        vertical-align: top;\n    }\n\n    .dataframe thead th {\n        text-align: right;\n    }\n</style>\n<table border=\"1\" class=\"dataframe\">\n  <thead>\n    <tr style=\"text-align: right;\">\n      <th></th>\n      <th>pickup_date</th>\n      <th>day_of_week</th>\n      <th>pickup_count</th>\n    </tr>\n  </thead>\n  <tbody>\n    <tr>\n      <th>0</th>\n      <td>2021-03-24</td>\n      <td>Wednesday</td>\n      <td>61095</td>\n    </tr>\n    <tr>\n      <th>1</th>\n      <td>2021-03-27</td>\n      <td>Saturday</td>\n      <td>60760</td>\n    </tr>\n    <tr>\n      <th>2</th>\n      <td>2021-03-03</td>\n      <td>Wednesday</td>\n      <td>55886</td>\n    </tr>\n    <tr>\n      <th>3</th>\n      <td>2021-03-05</td>\n      <td>Friday</td>\n      <td>61779</td>\n    </tr>\n    <tr>\n      <th>4</th>\n      <td>2021-03-09</td>\n      <td>Tuesday</td>\n      <td>54728</td>\n    </tr>\n  </tbody>\n</table>\n</div>"
     },
     "execution_count": 56,
     "metadata": {},
     "output_type": "execute_result"
    }
   ],
   "source": [
    "pickup_day_of_week_to_pandas.head()"
   ],
   "metadata": {
    "collapsed": false,
    "ExecuteTime": {
     "end_time": "2024-03-25T08:28:43.777525Z",
     "start_time": "2024-03-25T08:28:43.772628Z"
    }
   },
   "id": "fa18245398ab3b06",
   "execution_count": 56
  },
  {
   "cell_type": "code",
   "outputs": [],
   "source": [
    "data = pickup_day_of_week_to_pandas.groupby(\"day_of_week\").pickup_count.median().to_frame().reset_index()"
   ],
   "metadata": {
    "collapsed": false,
    "ExecuteTime": {
     "end_time": "2024-03-25T08:30:21.119331Z",
     "start_time": "2024-03-25T08:30:21.115003Z"
    }
   },
   "id": "42dbd66b46622e89",
   "execution_count": 57
  },
  {
   "cell_type": "code",
   "outputs": [
    {
     "data": {
      "text/plain": "  day_of_week  pickup_count\n0      Friday       74073.0\n1      Monday       57165.0\n2    Saturday       62455.0\n3      Sunday       43748.5\n4    Thursday       73011.0\n5     Tuesday       67613.5\n6   Wednesday       70195.5",
      "text/html": "<div>\n<style scoped>\n    .dataframe tbody tr th:only-of-type {\n        vertical-align: middle;\n    }\n\n    .dataframe tbody tr th {\n        vertical-align: top;\n    }\n\n    .dataframe thead th {\n        text-align: right;\n    }\n</style>\n<table border=\"1\" class=\"dataframe\">\n  <thead>\n    <tr style=\"text-align: right;\">\n      <th></th>\n      <th>day_of_week</th>\n      <th>pickup_count</th>\n    </tr>\n  </thead>\n  <tbody>\n    <tr>\n      <th>0</th>\n      <td>Friday</td>\n      <td>74073.0</td>\n    </tr>\n    <tr>\n      <th>1</th>\n      <td>Monday</td>\n      <td>57165.0</td>\n    </tr>\n    <tr>\n      <th>2</th>\n      <td>Saturday</td>\n      <td>62455.0</td>\n    </tr>\n    <tr>\n      <th>3</th>\n      <td>Sunday</td>\n      <td>43748.5</td>\n    </tr>\n    <tr>\n      <th>4</th>\n      <td>Thursday</td>\n      <td>73011.0</td>\n    </tr>\n    <tr>\n      <th>5</th>\n      <td>Tuesday</td>\n      <td>67613.5</td>\n    </tr>\n    <tr>\n      <th>6</th>\n      <td>Wednesday</td>\n      <td>70195.5</td>\n    </tr>\n  </tbody>\n</table>\n</div>"
     },
     "execution_count": 58,
     "metadata": {},
     "output_type": "execute_result"
    }
   ],
   "source": [
    "data"
   ],
   "metadata": {
    "collapsed": false,
    "ExecuteTime": {
     "end_time": "2024-03-25T08:30:22.810123Z",
     "start_time": "2024-03-25T08:30:22.805526Z"
    }
   },
   "id": "ef77c917e4db19af",
   "execution_count": 58
  },
  {
   "cell_type": "code",
   "outputs": [],
   "source": [
    "data['sort_dow'] = data['day_of_week'].replace({\n",
    "    \"Sunday\": 0,\n",
    "    \"Monday\": 1,\n",
    "    \"Tuesday\": 2,\n",
    "    \"Wednesday\": 3,\n",
    "    \"Thursday\": 4,\n",
    "    \"Friday\": 5,\n",
    "    \"Saturday\": 6,\n",
    "})"
   ],
   "metadata": {
    "collapsed": false,
    "ExecuteTime": {
     "end_time": "2024-03-25T08:31:03.906661Z",
     "start_time": "2024-03-25T08:31:03.902200Z"
    }
   },
   "id": "fc2bea5cb8b17c2c",
   "execution_count": 59
  },
  {
   "cell_type": "code",
   "outputs": [
    {
     "data": {
      "text/plain": "  day_of_week  pickup_count  sort_dow\n0      Friday       74073.0         5\n1      Monday       57165.0         1\n2    Saturday       62455.0         6\n3      Sunday       43748.5         0\n4    Thursday       73011.0         4\n5     Tuesday       67613.5         2\n6   Wednesday       70195.5         3",
      "text/html": "<div>\n<style scoped>\n    .dataframe tbody tr th:only-of-type {\n        vertical-align: middle;\n    }\n\n    .dataframe tbody tr th {\n        vertical-align: top;\n    }\n\n    .dataframe thead th {\n        text-align: right;\n    }\n</style>\n<table border=\"1\" class=\"dataframe\">\n  <thead>\n    <tr style=\"text-align: right;\">\n      <th></th>\n      <th>day_of_week</th>\n      <th>pickup_count</th>\n      <th>sort_dow</th>\n    </tr>\n  </thead>\n  <tbody>\n    <tr>\n      <th>0</th>\n      <td>Friday</td>\n      <td>74073.0</td>\n      <td>5</td>\n    </tr>\n    <tr>\n      <th>1</th>\n      <td>Monday</td>\n      <td>57165.0</td>\n      <td>1</td>\n    </tr>\n    <tr>\n      <th>2</th>\n      <td>Saturday</td>\n      <td>62455.0</td>\n      <td>6</td>\n    </tr>\n    <tr>\n      <th>3</th>\n      <td>Sunday</td>\n      <td>43748.5</td>\n      <td>0</td>\n    </tr>\n    <tr>\n      <th>4</th>\n      <td>Thursday</td>\n      <td>73011.0</td>\n      <td>4</td>\n    </tr>\n    <tr>\n      <th>5</th>\n      <td>Tuesday</td>\n      <td>67613.5</td>\n      <td>2</td>\n    </tr>\n    <tr>\n      <th>6</th>\n      <td>Wednesday</td>\n      <td>70195.5</td>\n      <td>3</td>\n    </tr>\n  </tbody>\n</table>\n</div>"
     },
     "execution_count": 60,
     "metadata": {},
     "output_type": "execute_result"
    }
   ],
   "source": [
    "data"
   ],
   "metadata": {
    "collapsed": false,
    "ExecuteTime": {
     "end_time": "2024-03-25T08:31:05.199496Z",
     "start_time": "2024-03-25T08:31:05.194783Z"
    }
   },
   "id": "e9c4cb06c3ad0a88",
   "execution_count": 60
  },
  {
   "cell_type": "code",
   "outputs": [],
   "source": [
    "data.sort_values(by='sort_dow', inplace=True)"
   ],
   "metadata": {
    "collapsed": false,
    "ExecuteTime": {
     "end_time": "2024-03-25T08:31:40.656571Z",
     "start_time": "2024-03-25T08:31:40.654079Z"
    }
   },
   "id": "a20a3439a6d1455b",
   "execution_count": 61
  },
  {
   "cell_type": "code",
   "outputs": [
    {
     "data": {
      "text/plain": "  day_of_week  pickup_count  sort_dow\n3      Sunday       43748.5         0\n1      Monday       57165.0         1\n5     Tuesday       67613.5         2\n6   Wednesday       70195.5         3\n4    Thursday       73011.0         4\n0      Friday       74073.0         5\n2    Saturday       62455.0         6",
      "text/html": "<div>\n<style scoped>\n    .dataframe tbody tr th:only-of-type {\n        vertical-align: middle;\n    }\n\n    .dataframe tbody tr th {\n        vertical-align: top;\n    }\n\n    .dataframe thead th {\n        text-align: right;\n    }\n</style>\n<table border=\"1\" class=\"dataframe\">\n  <thead>\n    <tr style=\"text-align: right;\">\n      <th></th>\n      <th>day_of_week</th>\n      <th>pickup_count</th>\n      <th>sort_dow</th>\n    </tr>\n  </thead>\n  <tbody>\n    <tr>\n      <th>3</th>\n      <td>Sunday</td>\n      <td>43748.5</td>\n      <td>0</td>\n    </tr>\n    <tr>\n      <th>1</th>\n      <td>Monday</td>\n      <td>57165.0</td>\n      <td>1</td>\n    </tr>\n    <tr>\n      <th>5</th>\n      <td>Tuesday</td>\n      <td>67613.5</td>\n      <td>2</td>\n    </tr>\n    <tr>\n      <th>6</th>\n      <td>Wednesday</td>\n      <td>70195.5</td>\n      <td>3</td>\n    </tr>\n    <tr>\n      <th>4</th>\n      <td>Thursday</td>\n      <td>73011.0</td>\n      <td>4</td>\n    </tr>\n    <tr>\n      <th>0</th>\n      <td>Friday</td>\n      <td>74073.0</td>\n      <td>5</td>\n    </tr>\n    <tr>\n      <th>2</th>\n      <td>Saturday</td>\n      <td>62455.0</td>\n      <td>6</td>\n    </tr>\n  </tbody>\n</table>\n</div>"
     },
     "execution_count": 62,
     "metadata": {},
     "output_type": "execute_result"
    }
   ],
   "source": [
    "data"
   ],
   "metadata": {
    "collapsed": false,
    "ExecuteTime": {
     "end_time": "2024-03-25T08:31:41.894366Z",
     "start_time": "2024-03-25T08:31:41.889599Z"
    }
   },
   "id": "38f8b8f5a9f6865b",
   "execution_count": 62
  },
  {
   "cell_type": "code",
   "outputs": [
    {
     "data": {
      "text/plain": "<Axes: xlabel='day_of_week', ylabel='pickup_count'>"
     },
     "execution_count": 65,
     "metadata": {},
     "output_type": "execute_result"
    },
    {
     "data": {
      "text/plain": "<Figure size 1200x500 with 1 Axes>",
      "image/png": "[encoded data removed]"
     },
     "metadata": {},
     "output_type": "display_data"
    }
   ],
   "source": [
    "fig, ax = plt.subplots(figsize=(12, 5))\n",
    "sns.barplot(\n",
    "    x=\"day_of_week\",\n",
    "    y=\"pickup_count\",\n",
    "    data=data\n",
    ")"
   ],
   "metadata": {
    "collapsed": false,
    "ExecuteTime": {
     "end_time": "2024-03-25T08:32:09.138860Z",
     "start_time": "2024-03-25T08:32:09.024415Z"
    }
   },
   "id": "d66037f0036ead56",
   "execution_count": 65
  },
  {
   "cell_type": "code",
   "outputs": [
    {
     "name": "stderr",
     "output_type": "stream",
     "text": [
      "24/03/25 17:36:18 WARN SimpleFunctionRegistry: The function parse_payment_type replaced a previously registered function.\n",
      "[Stage 77:=========================================>               (8 + 3) / 11]\r"
     ]
    },
    {
     "name": "stdout",
     "output_type": "stream",
     "text": [
      "+--------------------------------+--------+------------------+------------------+\n",
      "|parse_payment_type(payment_type)|   trips|  mean_fare_amount| stdev_fare_amount|\n",
      "+--------------------------------+--------+------------------+------------------+\n",
      "|                     Credit Card|10264113| 12.22903129671156|10.829167433394183|\n",
      "|                       No Charge|   59146|11.978507084164598|15.075517698204939|\n",
      "|                            Cash| 3152075|12.013733102797323|11.525458490191864|\n",
      "|                         Dispute|   23809| 12.70040656894452|14.233591295666047|\n",
      "|                         Unknown|       1|              17.8|              null|\n",
      "+--------------------------------+--------+------------------+------------------+\n"
     ]
    },
    {
     "name": "stderr",
     "output_type": "stream",
     "text": [
      "                                                                                \r"
     ]
    }
   ],
   "source": [
    "payment_type_to_string = {\n",
    "    1: \"Credit Card\",\n",
    "    2: \"Cash\",\n",
    "    3: \"No Charge\",   # 계산되지 않음\n",
    "    4: \"Dispute\",     # 분쟁이 있었음\n",
    "    5: \"Unknown\",\n",
    "    6: \"Voided Trip\", # 취소된 운행\n",
    "}\n",
    "def parse_payment_type(payment_type):\n",
    "    return payment_type_to_string[payment_type]\n",
    "\n",
    "spark.udf.register(\"parse_payment_type\", parse_payment_type)\n",
    "\n",
    "\n",
    "query = \"\"\"\n",
    "SELECT \n",
    "    parse_payment_type(t1.payment_type),\n",
    "    count(*) AS trips,\n",
    "    MEAN(t1.fare_amount) AS mean_fare_amount,\n",
    "    STD(t1.fare_amount) AS stdev_fare_amount\n",
    "FROM\n",
    "    cleaned_trips as t1\n",
    "GROUP BY\n",
    "    payment_type\n",
    "\"\"\"\n",
    "\n",
    "spark.sql(query).show()"
   ],
   "metadata": {
    "collapsed": false,
    "ExecuteTime": {
     "end_time": "2024-03-25T08:36:20.041077Z",
     "start_time": "2024-03-25T08:36:18.027284Z"
    }
   },
   "id": "5b1422221e30e1f",
   "execution_count": 69
  },
  {
   "cell_type": "code",
   "outputs": [],
   "source": [],
   "metadata": {
    "collapsed": false
   },
   "id": "56dd5a820f18784c"
  }
 ],
 "metadata": {
  "kernelspec": {
   "display_name": "Python 3",
   "language": "python",
   "name": "python3"
  },
  "language_info": {
   "codemirror_mode": {
    "name": "ipython",
    "version": 2
   },
   "file_extension": ".py",
   "mimetype": "text/x-python",
   "name": "python",
   "nbconvert_exporter": "python",
   "pygments_lexer": "ipython2",
   "version": "2.7.6"
  }
 },
 "nbformat": 4,
 "nbformat_minor": 5
}
