{
 "cells": [
  {
   "cell_type": "code",
   "execution_count": 5,
   "id": "initial_id",
   "metadata": {
    "collapsed": true,
    "ExecuteTime": {
     "end_time": "2024-03-23T09:09:33.129636Z",
     "start_time": "2024-03-23T09:09:30.557943Z"
    }
   },
   "outputs": [
    {
     "data": {
      "text/plain": "  hvfhs_license_num dispatching_base_num originating_base_num  \\\n0            HV0005               B02510                 None   \n1            HV0005               B02510                 None   \n2            HV0003               B02764               B02764   \n3            HV0003               B02764               B02764   \n4            HV0003               B02764               B02764   \n\n     request_datetime   on_scene_datetime     pickup_datetime  \\\n0 2020-03-01 00:00:12                 NaT 2020-03-01 00:03:40   \n1 2020-03-01 00:22:03                 NaT 2020-03-01 00:28:05   \n2 2020-02-29 23:57:45 2020-03-01 00:01:04 2020-03-01 00:03:07   \n3 2020-03-01 00:04:06 2020-03-01 00:15:48 2020-03-01 00:18:42   \n4 2020-03-01 00:42:46 2020-03-01 00:43:18 2020-03-01 00:44:24   \n\n     dropoff_datetime  PULocationID  DOLocationID  trip_miles  ...  sales_tax  \\\n0 2020-03-01 00:23:39            81           159       8.655  ...       1.90   \n1 2020-03-01 00:38:57           168           119       3.523  ...       0.85   \n2 2020-03-01 00:15:04           137           209       4.070  ...       1.38   \n3 2020-03-01 00:38:42           209            80       4.730  ...       1.23   \n4 2020-03-01 00:58:44           256           226       4.030  ...       1.79   \n\n   congestion_surcharge  airport_fee  tips  driver_pay  shared_request_flag  \\\n0                  0.00          NaN   0.0       19.65                    N   \n1                  0.00          NaN   0.0        9.37                    N   \n2                  2.75          NaN   0.0       16.24                    N   \n3                  0.75          NaN   0.0       21.76                    Y   \n4                  0.00          NaN   0.0       19.64                    N   \n\n   shared_match_flag  access_a_ride_flag  wav_request_flag wav_match_flag  \n0                  N                   N                 N              N  \n1                  N                   N                 N              N  \n2                  Y                                     N              N  \n3                  N                                     N              N  \n4                  N                                     N              N  \n\n[5 rows x 24 columns]",
      "text/html": "<div>\n<style scoped>\n    .dataframe tbody tr th:only-of-type {\n        vertical-align: middle;\n    }\n\n    .dataframe tbody tr th {\n        vertical-align: top;\n    }\n\n    .dataframe thead th {\n        text-align: right;\n    }\n</style>\n<table border=\"1\" class=\"dataframe\">\n  <thead>\n    <tr style=\"text-align: right;\">\n      <th></th>\n      <th>hvfhs_license_num</th>\n      <th>dispatching_base_num</th>\n      <th>originating_base_num</th>\n      <th>request_datetime</th>\n      <th>on_scene_datetime</th>\n      <th>pickup_datetime</th>\n      <th>dropoff_datetime</th>\n      <th>PULocationID</th>\n      <th>DOLocationID</th>\n      <th>trip_miles</th>\n      <th>...</th>\n      <th>sales_tax</th>\n      <th>congestion_surcharge</th>\n      <th>airport_fee</th>\n      <th>tips</th>\n      <th>driver_pay</th>\n      <th>shared_request_flag</th>\n      <th>shared_match_flag</th>\n      <th>access_a_ride_flag</th>\n      <th>wav_request_flag</th>\n      <th>wav_match_flag</th>\n    </tr>\n  </thead>\n  <tbody>\n    <tr>\n      <th>0</th>\n      <td>HV0005</td>\n      <td>B02510</td>\n      <td>None</td>\n      <td>2020-03-01 00:00:12</td>\n      <td>NaT</td>\n      <td>2020-03-01 00:03:40</td>\n      <td>2020-03-01 00:23:39</td>\n      <td>81</td>\n      <td>159</td>\n      <td>8.655</td>\n      <td>...</td>\n      <td>1.90</td>\n      <td>0.00</td>\n      <td>NaN</td>\n      <td>0.0</td>\n      <td>19.65</td>\n      <td>N</td>\n      <td>N</td>\n      <td>N</td>\n      <td>N</td>\n      <td>N</td>\n    </tr>\n    <tr>\n      <th>1</th>\n      <td>HV0005</td>\n      <td>B02510</td>\n      <td>None</td>\n      <td>2020-03-01 00:22:03</td>\n      <td>NaT</td>\n      <td>2020-03-01 00:28:05</td>\n      <td>2020-03-01 00:38:57</td>\n      <td>168</td>\n      <td>119</td>\n      <td>3.523</td>\n      <td>...</td>\n      <td>0.85</td>\n      <td>0.00</td>\n      <td>NaN</td>\n      <td>0.0</td>\n      <td>9.37</td>\n      <td>N</td>\n      <td>N</td>\n      <td>N</td>\n      <td>N</td>\n      <td>N</td>\n    </tr>\n    <tr>\n      <th>2</th>\n      <td>HV0003</td>\n      <td>B02764</td>\n      <td>B02764</td>\n      <td>2020-02-29 23:57:45</td>\n      <td>2020-03-01 00:01:04</td>\n      <td>2020-03-01 00:03:07</td>\n      <td>2020-03-01 00:15:04</td>\n      <td>137</td>\n      <td>209</td>\n      <td>4.070</td>\n      <td>...</td>\n      <td>1.38</td>\n      <td>2.75</td>\n      <td>NaN</td>\n      <td>0.0</td>\n      <td>16.24</td>\n      <td>N</td>\n      <td>Y</td>\n      <td></td>\n      <td>N</td>\n      <td>N</td>\n    </tr>\n    <tr>\n      <th>3</th>\n      <td>HV0003</td>\n      <td>B02764</td>\n      <td>B02764</td>\n      <td>2020-03-01 00:04:06</td>\n      <td>2020-03-01 00:15:48</td>\n      <td>2020-03-01 00:18:42</td>\n      <td>2020-03-01 00:38:42</td>\n      <td>209</td>\n      <td>80</td>\n      <td>4.730</td>\n      <td>...</td>\n      <td>1.23</td>\n      <td>0.75</td>\n      <td>NaN</td>\n      <td>0.0</td>\n      <td>21.76</td>\n      <td>Y</td>\n      <td>N</td>\n      <td></td>\n      <td>N</td>\n      <td>N</td>\n    </tr>\n    <tr>\n      <th>4</th>\n      <td>HV0003</td>\n      <td>B02764</td>\n      <td>B02764</td>\n      <td>2020-03-01 00:42:46</td>\n      <td>2020-03-01 00:43:18</td>\n      <td>2020-03-01 00:44:24</td>\n      <td>2020-03-01 00:58:44</td>\n      <td>256</td>\n      <td>226</td>\n      <td>4.030</td>\n      <td>...</td>\n      <td>1.79</td>\n      <td>0.00</td>\n      <td>NaN</td>\n      <td>0.0</td>\n      <td>19.64</td>\n      <td>N</td>\n      <td>N</td>\n      <td></td>\n      <td>N</td>\n      <td>N</td>\n    </tr>\n  </tbody>\n</table>\n<p>5 rows × 24 columns</p>\n</div>"
     },
     "execution_count": 5,
     "metadata": {},
     "output_type": "execute_result"
    }
   ],
   "source": [
    "import pandas as pd\n",
    "\n",
    "df = pd.read_parquet(\"../../data/fhvhv_tripdata_2020-03.parquet\")\n",
    "df.head(5)\n",
    "\n",
    "#\n",
    "#   hvfhs_license_num: 회사 면허 번호\n",
    "#   dispatching_base_num: 지역 라이센스 번호\n",
    "#   pickup_datetime: 승차 시간\n",
    "#   dropoff_datetime: 하차 시간\n",
    "#   PULocationID: 승차 지역 아이디\n",
    "#   DOLocationID: 하차 지역 아이디\n",
    "#   SR_Flag: 합승 여부\n"
   ]
  },
  {
   "cell_type": "code",
   "outputs": [],
   "source": [],
   "metadata": {
    "collapsed": false
   },
   "id": "3734db926fab32a3"
  }
 ],
 "metadata": {
  "kernelspec": {
   "display_name": "Python 3",
   "language": "python",
   "name": "python3"
  },
  "language_info": {
   "codemirror_mode": {
    "name": "ipython",
    "version": 2
   },
   "file_extension": ".py",
   "mimetype": "text/x-python",
   "name": "python",
   "nbconvert_exporter": "python",
   "pygments_lexer": "ipython2",
   "version": "2.7.6"
  }
 },
 "nbformat": 4,
 "nbformat_minor": 5
}
